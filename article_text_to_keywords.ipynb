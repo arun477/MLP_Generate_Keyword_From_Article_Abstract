{
  "nbformat": 4,
  "nbformat_minor": 0,
  "metadata": {
    "colab": {
      "provenance": [],
      "authorship_tag": "ABX9TyNHUanN44t8uo7qHrBOGD6U",
      "include_colab_link": true
    },
    "kernelspec": {
      "name": "python3",
      "display_name": "Python 3"
    },
    "language_info": {
      "name": "python"
    },
    "accelerator": "GPU",
    "gpuClass": "standard"
  },
  "cells": [
    {
      "cell_type": "markdown",
      "metadata": {
        "id": "view-in-github",
        "colab_type": "text"
      },
      "source": [
        "<a href=\"https://colab.research.google.com/gist/arun477/726843622e3ac4c178856c4666c2663b/article_text_to_keywords.ipynb\" target=\"_parent\"><img src=\"https://colab.research.google.com/assets/colab-badge.svg\" alt=\"Open In Colab\"/></a>"
      ]
    },
    {
      "cell_type": "code",
      "execution_count": 1,
      "metadata": {
        "colab": {
          "base_uri": "https://localhost:8080/"
        },
        "id": "mspZsMq8xPLk",
        "outputId": "652f8c3a-f2e7-4bfb-a590-cae225579b32"
      },
      "outputs": [
        {
          "output_type": "stream",
          "name": "stdout",
          "text": [
            "Looking in indexes: https://pypi.org/simple, https://us-python.pkg.dev/colab-wheels/public/simple/\n",
            "Requirement already satisfied: nltk in /usr/local/lib/python3.8/dist-packages (3.7)\n",
            "Requirement already satisfied: click in /usr/local/lib/python3.8/dist-packages (from nltk) (7.1.2)\n",
            "Requirement already satisfied: joblib in /usr/local/lib/python3.8/dist-packages (from nltk) (1.2.0)\n",
            "Requirement already satisfied: tqdm in /usr/local/lib/python3.8/dist-packages (from nltk) (4.64.1)\n",
            "Requirement already satisfied: regex>=2021.8.3 in /usr/local/lib/python3.8/dist-packages (from nltk) (2022.6.2)\n",
            "Looking in indexes: https://pypi.org/simple, https://us-python.pkg.dev/colab-wheels/public/simple/\n",
            "Collecting pymed\n",
            "  Downloading pymed-0.8.9-py3-none-any.whl (9.6 kB)\n",
            "Requirement already satisfied: requests>=2.20.0 in /usr/local/lib/python3.8/dist-packages (from pymed) (2.25.1)\n",
            "Requirement already satisfied: idna<3,>=2.5 in /usr/local/lib/python3.8/dist-packages (from requests>=2.20.0->pymed) (2.10)\n",
            "Requirement already satisfied: certifi>=2017.4.17 in /usr/local/lib/python3.8/dist-packages (from requests>=2.20.0->pymed) (2022.12.7)\n",
            "Requirement already satisfied: urllib3<1.27,>=1.21.1 in /usr/local/lib/python3.8/dist-packages (from requests>=2.20.0->pymed) (1.24.3)\n",
            "Requirement already satisfied: chardet<5,>=3.0.2 in /usr/local/lib/python3.8/dist-packages (from requests>=2.20.0->pymed) (4.0.0)\n",
            "Installing collected packages: pymed\n",
            "Successfully installed pymed-0.8.9\n"
          ]
        }
      ],
      "source": [
        "!pip install nltk\n",
        "!pip install pymed"
      ]
    },
    {
      "cell_type": "code",
      "source": [
        "from pymed import PubMed\n",
        "import nltk\n",
        "from nltk.corpus import stopwords\n",
        "nltk.download('stopwords')"
      ],
      "metadata": {
        "colab": {
          "base_uri": "https://localhost:8080/"
        },
        "id": "hMKkoo8u_bWe",
        "outputId": "c37f4688-133b-4d67-b81a-462944ab19b3"
      },
      "execution_count": 2,
      "outputs": [
        {
          "output_type": "stream",
          "name": "stderr",
          "text": [
            "[nltk_data] Downloading package stopwords to /root/nltk_data...\n",
            "[nltk_data]   Unzipping corpora/stopwords.zip.\n"
          ]
        },
        {
          "output_type": "execute_result",
          "data": {
            "text/plain": [
              "True"
            ]
          },
          "metadata": {},
          "execution_count": 2
        }
      ]
    },
    {
      "cell_type": "code",
      "source": [
        "# english stop words\n",
        "eng_stop_words=set(stopwords.words('english'))"
      ],
      "metadata": {
        "id": "qHiJtXjE0gI8"
      },
      "execution_count": 3,
      "outputs": []
    },
    {
      "cell_type": "code",
      "source": [
        "pubmed = PubMed(tool=\"MyTool\", email=\"coolarun477@gmail.com\")\n",
        "results = pubmed.query(\"covid\", max_results=500)\n",
        "results = [ele.toDict() for ele in results]"
      ],
      "metadata": {
        "id": "GegxJjeP0hp0"
      },
      "execution_count": 4,
      "outputs": []
    },
    {
      "cell_type": "code",
      "source": [
        "print('total documents: ', len(results))"
      ],
      "metadata": {
        "colab": {
          "base_uri": "https://localhost:8080/"
        },
        "id": "OefTPTcv0uoQ",
        "outputId": "c294ae8b-edac-4133-f487-722ec2622c9b"
      },
      "execution_count": 5,
      "outputs": [
        {
          "output_type": "stream",
          "name": "stdout",
          "text": [
            "total documents:  500\n"
          ]
        }
      ]
    },
    {
      "cell_type": "code",
      "source": [
        "# keep document wich only has keywords\n",
        "results_with_keywords = [ele for ele in results if len(ele.get('keywords', []))>0]"
      ],
      "metadata": {
        "id": "zxpscvwe0vmW"
      },
      "execution_count": 6,
      "outputs": []
    },
    {
      "cell_type": "code",
      "source": [
        "print('total documents with keywords: ', len(results_with_keywords))"
      ],
      "metadata": {
        "colab": {
          "base_uri": "https://localhost:8080/"
        },
        "id": "avxRxwBN1mCE",
        "outputId": "9af53086-ebc6-4fdf-f896-476134144542"
      },
      "execution_count": 7,
      "outputs": [
        {
          "output_type": "stream",
          "name": "stdout",
          "text": [
            "total documents with keywords:  372\n"
          ]
        }
      ]
    },
    {
      "cell_type": "code",
      "source": [
        "# combine the abstract, title, conclusions all into single text blocks\n",
        "# and take set of keywords and attach this combined textblock to each keyword in that document\n",
        "data = []\n",
        "for doc in results_with_keywords:\n",
        "  title = doc.get('title') or ''\n",
        "  abstract = doc.get('abstract') or ''\n",
        "  conclusions = doc.get('conclusions') or ''\n",
        "  combined_text = title +  ' ' + abstract + ' ' + conclusions\n",
        "  keywords = list(set(doc.get('keywords', [])))\n",
        "  for keyword in keywords:\n",
        "    data.append({\n",
        "        \"keyword\": keyword,\n",
        "        \"text\": combined_text\n",
        "    })"
      ],
      "metadata": {
        "id": "BZHijDQR1O9C"
      },
      "execution_count": 8,
      "outputs": []
    },
    {
      "cell_type": "code",
      "source": [
        "print('total data points: ', len(data))"
      ],
      "metadata": {
        "colab": {
          "base_uri": "https://localhost:8080/"
        },
        "id": "v3JvXG_q1rZP",
        "outputId": "f98d1e7f-201a-465d-fa03-93710f9ab4a4"
      },
      "execution_count": 9,
      "outputs": [
        {
          "output_type": "stream",
          "name": "stdout",
          "text": [
            "total data points:  1948\n"
          ]
        }
      ]
    },
    {
      "cell_type": "code",
      "source": [
        "def clean_text(text):\n",
        "  # remove line space remove quotes and make it lower case\n",
        "  text = text.strip().replace('\\n', ' ').replace('\"', '').replace(\"'\", '').lower()\n",
        "  # remove english stop words\n",
        "  text = filter(lambda w: not w in eng_stop_words,text.split())\n",
        "  text = \" \".join(text)\n",
        "  return text"
      ],
      "metadata": {
        "id": "kS7tHDLoALLL"
      },
      "execution_count": 10,
      "outputs": []
    },
    {
      "cell_type": "code",
      "source": [
        "# goal is to build a model which will predict set of \"important keywords\" for the given text block"
      ],
      "metadata": {
        "id": "VEyP60lo3JI1"
      },
      "execution_count": 11,
      "outputs": []
    },
    {
      "cell_type": "code",
      "source": [
        "# vocabs\n",
        "words = sorted(list(set(\" \".join([clean_text(ele['text']) for ele in data]).split(' '))))\n",
        "keywords = sorted(list(set(\" \".join([clean_text(ele['keyword']) for ele in data]).split(' '))))\n",
        "# print(keywords[1000])\n",
        "words += keywords\n",
        "words = sorted(list(set(words)))\n",
        "wtoi = {w:i+1 for i, w in enumerate(words)}\n",
        "wtoi['.'] = 0\n",
        "itow = {i:w for w, i in wtoi.items()}\n",
        "n_vocab = len(itow)\n",
        "print('len vocab: ', n_vocab)"
      ],
      "metadata": {
        "colab": {
          "base_uri": "https://localhost:8080/"
        },
        "id": "Y0mjf9Zq7vfH",
        "outputId": "0d610eec-8d38-4d81-864a-544ed93a0a17"
      },
      "execution_count": 12,
      "outputs": [
        {
          "output_type": "stream",
          "name": "stdout",
          "text": [
            "len vocab:  14796\n"
          ]
        }
      ]
    },
    {
      "cell_type": "code",
      "source": [
        "import torch\n",
        "import torch.nn.functional as F\n",
        "import matplotlib.pyplot as plt\n",
        "import random\n",
        "random.seed(46)"
      ],
      "metadata": {
        "id": "paO-unjN8Ngz"
      },
      "execution_count": 13,
      "outputs": []
    },
    {
      "cell_type": "code",
      "source": [
        "# train, test, validation set\n",
        "n1 = int(0.6*len(data))\n",
        "n2 = int(0.8*len(data))\n",
        "random.shuffle(data)\n",
        "\n",
        "def get_batch_data(data):\n",
        "  X, Y = [], []\n",
        "  for d in data:\n",
        "    text = d['text']\n",
        "    keyword = d['keyword']\n",
        "    context = []\n",
        "    keyword_context = []\n",
        "    for word in clean_text(text).split(' '):\n",
        "      ix = wtoi[word]\n",
        "      context.append(ix)\n",
        "    \n",
        "    for key in clean_text(keyword).split(' '):\n",
        "      ix = wtoi[key]\n",
        "      X.append(context) \n",
        "      Y.append(ix)\n",
        "  \n",
        "  # add the padding for the variable length\n",
        "  max_len = max(len(x) for x in X)\n",
        "  X_padded = []\n",
        "  for x in X:\n",
        "    padd_diff = abs(max_len-len(x))\n",
        "    if max_len > 0:\n",
        "      padding = [0] * padd_diff\n",
        "    x = x + padding\n",
        "    X_padded.append(x)\n",
        "  \n",
        "  print('max len: ', max_len)\n",
        "\n",
        "  X = torch.tensor(X_padded)\n",
        "  Y = torch.tensor(Y)\n",
        "\n",
        "  return X, Y\n",
        "    \n",
        "Xtr, Ytr = get_batch_data(data[:n1])\n",
        "Xdev, Ydev = get_batch_data(data[n1:n2])\n",
        "Xte, Yte = get_batch_data(data[n2:])"
      ],
      "metadata": {
        "colab": {
          "base_uri": "https://localhost:8080/"
        },
        "id": "An-N0ap482tZ",
        "outputId": "f53791ea-fbb5-44b3-d8a8-93d79647b692"
      },
      "execution_count": 14,
      "outputs": [
        {
          "output_type": "stream",
          "name": "stdout",
          "text": [
            "max len:  538\n",
            "max len:  538\n",
            "max len:  538\n"
          ]
        }
      ]
    },
    {
      "cell_type": "code",
      "source": [],
      "metadata": {
        "id": "3cot6yF3YqVq"
      },
      "execution_count": 14,
      "outputs": []
    },
    {
      "cell_type": "code",
      "source": [
        "# params\n",
        "block_size = 538\n",
        "batch_size = 32\n",
        "embed_dim = 100\n",
        "hidden_layer = 100\n",
        "C = torch.randn(n_vocab + 1, embed_dim)\n",
        "W1 = torch.randn(embed_dim*block_size, hidden_layer) * (5/3)/ (embed_dim*block_size)**0.5\n",
        "b1 = torch.randn(hidden_layer) * 0.1\n",
        "W2 = torch.randn(hidden_layer, n_vocab) * 0.1\n",
        "b2 = torch.randn(n_vocab) * 0.1"
      ],
      "metadata": {
        "id": "2qUuBqmh-q3t"
      },
      "execution_count": 26,
      "outputs": []
    },
    {
      "cell_type": "code",
      "source": [
        "parameters = [C, W1, b1, W2, b2]\n",
        "for p in parameters:\n",
        "  p.requires_grad = True"
      ],
      "metadata": {
        "id": "rl4ziBjNl0s9"
      },
      "execution_count": 27,
      "outputs": []
    },
    {
      "cell_type": "code",
      "source": [
        "isteps = []\n",
        "iloss = []"
      ],
      "metadata": {
        "id": "g7TdOP4YmRR5"
      },
      "execution_count": 31,
      "outputs": []
    },
    {
      "cell_type": "code",
      "source": [
        "number_of_iterations = 5000"
      ],
      "metadata": {
        "id": "vkqrttgxqjAH"
      },
      "execution_count": null,
      "outputs": []
    },
    {
      "cell_type": "code",
      "source": [
        "for i in range(number_of_iterations):\n",
        "  # batch\n",
        "  ix = torch.randint(0, Xtr.shape[0], (batch_size,))\n",
        "  # forward pass\n",
        "  emb = C[Xtr[ix]]\n",
        "  embcat = emb.view(emb.shape[0], -1)\n",
        "  hpreact = embcat @ W1 + b1\n",
        "  h = torch.tanh(hpreact)\n",
        "  logits = h @ W2 + b2\n",
        "  loss = F.cross_entropy(logits, Ytr[ix])\n",
        "\n",
        "  # backward pass\n",
        "  for p in parameters:\n",
        "    p.grad = None\n",
        "  loss.backward()\n",
        "\n",
        "  # update\n",
        "  lr = 0.01 if i < 5000 else 0.001\n",
        "  for p in parameters:\n",
        "    p.data += -lr * p.grad\n",
        "\n",
        "  isteps.append(i)\n",
        "  iloss.append(loss.item())\n",
        "\n",
        "  if i % 1000 == 0:\n",
        "    print('loss: ', loss.item())\n"
      ],
      "metadata": {
        "colab": {
          "base_uri": "https://localhost:8080/",
          "height": 383
        },
        "id": "ZXLSR002-o0_",
        "outputId": "2c962def-f8dd-4bb6-e290-92e83faccbd2"
      },
      "execution_count": 34,
      "outputs": [
        {
          "output_type": "stream",
          "name": "stdout",
          "text": [
            "loss:  6.444718837738037\n",
            "loss:  6.346046447753906\n",
            "loss:  6.113593101501465\n",
            "loss:  5.694157123565674\n",
            "loss:  6.2882981300354\n",
            "loss:  5.749215602874756\n",
            "loss:  5.945130348205566\n",
            "loss:  6.240721225738525\n"
          ]
        },
        {
          "output_type": "error",
          "ename": "KeyboardInterrupt",
          "evalue": "ignored",
          "traceback": [
            "\u001b[0;31m---------------------------------------------------------------------------\u001b[0m",
            "\u001b[0;31mKeyboardInterrupt\u001b[0m                         Traceback (most recent call last)",
            "\u001b[0;32m<ipython-input-34-7d0bcc903454>\u001b[0m in \u001b[0;36m<module>\u001b[0;34m\u001b[0m\n\u001b[1;32m      5\u001b[0m   \u001b[0memb\u001b[0m \u001b[0;34m=\u001b[0m \u001b[0mC\u001b[0m\u001b[0;34m[\u001b[0m\u001b[0mXtr\u001b[0m\u001b[0;34m[\u001b[0m\u001b[0mix\u001b[0m\u001b[0;34m]\u001b[0m\u001b[0;34m]\u001b[0m\u001b[0;34m\u001b[0m\u001b[0;34m\u001b[0m\u001b[0m\n\u001b[1;32m      6\u001b[0m   \u001b[0membcat\u001b[0m \u001b[0;34m=\u001b[0m \u001b[0memb\u001b[0m\u001b[0;34m.\u001b[0m\u001b[0mview\u001b[0m\u001b[0;34m(\u001b[0m\u001b[0memb\u001b[0m\u001b[0;34m.\u001b[0m\u001b[0mshape\u001b[0m\u001b[0;34m[\u001b[0m\u001b[0;36m0\u001b[0m\u001b[0;34m]\u001b[0m\u001b[0;34m,\u001b[0m \u001b[0;34m-\u001b[0m\u001b[0;36m1\u001b[0m\u001b[0;34m)\u001b[0m\u001b[0;34m\u001b[0m\u001b[0;34m\u001b[0m\u001b[0m\n\u001b[0;32m----> 7\u001b[0;31m   \u001b[0mhpreact\u001b[0m \u001b[0;34m=\u001b[0m \u001b[0membcat\u001b[0m \u001b[0;34m@\u001b[0m \u001b[0mW1\u001b[0m \u001b[0;34m+\u001b[0m \u001b[0mb1\u001b[0m\u001b[0;34m\u001b[0m\u001b[0;34m\u001b[0m\u001b[0m\n\u001b[0m\u001b[1;32m      8\u001b[0m   \u001b[0mh\u001b[0m \u001b[0;34m=\u001b[0m \u001b[0mtorch\u001b[0m\u001b[0;34m.\u001b[0m\u001b[0mtanh\u001b[0m\u001b[0;34m(\u001b[0m\u001b[0mhpreact\u001b[0m\u001b[0;34m)\u001b[0m\u001b[0;34m\u001b[0m\u001b[0;34m\u001b[0m\u001b[0m\n\u001b[1;32m      9\u001b[0m   \u001b[0mlogits\u001b[0m \u001b[0;34m=\u001b[0m \u001b[0mh\u001b[0m \u001b[0;34m@\u001b[0m \u001b[0mW2\u001b[0m \u001b[0;34m+\u001b[0m \u001b[0mb2\u001b[0m\u001b[0;34m\u001b[0m\u001b[0;34m\u001b[0m\u001b[0m\n",
            "\u001b[0;31mKeyboardInterrupt\u001b[0m: "
          ]
        }
      ]
    },
    {
      "cell_type": "code",
      "source": [
        "plt.plot(isteps, iloss)"
      ],
      "metadata": {
        "colab": {
          "base_uri": "https://localhost:8080/",
          "height": 283
        },
        "id": "uYx3G6ePZ7SY",
        "outputId": "944c3ca5-954a-44d4-87b8-ffe3b9f0d639"
      },
      "execution_count": 35,
      "outputs": [
        {
          "output_type": "execute_result",
          "data": {
            "text/plain": [
              "[<matplotlib.lines.Line2D at 0x7f76ce7952e0>]"
            ]
          },
          "metadata": {},
          "execution_count": 35
        },
        {
          "output_type": "display_data",
          "data": {
            "text/plain": [
              "<Figure size 432x288 with 1 Axes>"
            ],
            "image/png": "[encoded data removed]"
          },
          "metadata": {
            "needs_background": "light"
          }
        }
      ]
    },
    {
      "cell_type": "code",
      "source": [
        "\n",
        "def get_loss(loss_type):\n",
        "    loss_type_map = {\n",
        "        'train': [Xtr, Ytr],\n",
        "        'dev': [Xdev, Ydev],\n",
        "        'test': [Xte, Yte]\n",
        "    }\n",
        "    X = loss_type_map[loss_type][0]\n",
        "    Y = loss_type_map[loss_type][1]\n",
        "    \n",
        "    # inference/loss\n",
        "    emb = C[X]\n",
        "    embcat = emb.view(emb.shape[0], -1)\n",
        "    hpreact = embcat @ W1\n",
        "    h = torch.tanh(hpreact)\n",
        "    logits = h @ W2 + b2\n",
        "    loss = F.cross_entropy(logits, Y)\n",
        "    print(f'{loss_type} loss: {loss.item()}')\n",
        "\n",
        "get_loss('train')\n",
        "get_loss('dev')"
      ],
      "metadata": {
        "colab": {
          "base_uri": "https://localhost:8080/"
        },
        "id": "dgSJ5a1BYhMH",
        "outputId": "0cf8b8f1-395e-462c-b3b1-abcf53a6e6ae"
      },
      "execution_count": 37,
      "outputs": [
        {
          "output_type": "stream",
          "name": "stdout",
          "text": [
            "train loss: 6.085864543914795\n",
            "dev loss: 9.608205795288086\n"
          ]
        }
      ]
    },
    {
      "cell_type": "code",
      "source": [
        "# prediction\n",
        "for doc in Xdev[:5]:\n",
        "  doc = doc.view(1, -1)\n",
        "  doc_keywords = []\n",
        "  for _ in range(5):\n",
        "    # ix = torch.randint(0, Xdev.shape[0], (1,))\n",
        "    # print(Xdev[ix].shape)\n",
        "    # print(doc.shape)\n",
        "    emb = C[doc]\n",
        "    embcat = emb.view(emb.shape[0], -1)\n",
        "    hpreact = embcat @ W1 + b1\n",
        "    h = torch.tanh(hpreact)\n",
        "    logits = h @ W2 + b2\n",
        "    probs = F.softmax(logits, dim=1)\n",
        "    # sample from the distribution\n",
        "    # pred_ix = torch.multinomial(torch.tensor([1/probs.shape[1]]*probs.shape[1]), num_samples=1).item()\n",
        "    pred_ix = torch.multinomial(probs, num_samples=1).item()\n",
        "    doc_keywords.append(itow[pred_ix])\n",
        "  print(list(set(doc_keywords)))"
      ],
      "metadata": {
        "colab": {
          "base_uri": "https://localhost:8080/"
        },
        "id": "tn9io1V6cL1s",
        "outputId": "1a2a00c5-3e1d-4602-82e8-ffce1fd199fb"
      },
      "execution_count": 81,
      "outputs": [
        {
          "output_type": "stream",
          "name": "stdout",
          "text": [
            "['pandemic', 'convalescent', 'dementia', 'aging', 'policy']\n",
            "['symptoms', 'stewardship', 'health', 'perceived', 'series']\n",
            "['ethical', 'anxiety', 'molecular', 'model', 'system']\n",
            "['neurodevelopmental', 'coronavirus', 'health', 'education', 'severe']\n",
            "['demyelinating', 'indicators', 'aspects', 'transmission', 'covid-19']\n"
          ]
        }
      ]
    },
    {
      "cell_type": "code",
      "source": [],
      "metadata": {
        "id": "XqHkGshHkQN7"
      },
      "execution_count": null,
      "outputs": []
    }
  ]
}